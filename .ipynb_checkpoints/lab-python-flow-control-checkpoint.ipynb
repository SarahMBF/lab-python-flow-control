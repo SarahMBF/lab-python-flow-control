{
 "cells": [
  {
   "cell_type": "markdown",
   "id": "d3bfc191-8885-42ee-b0a0-bbab867c6f9f",
   "metadata": {
    "tags": []
   },
   "source": [
    "# Lab | Flow Control"
   ]
  },
  {
   "cell_type": "markdown",
   "id": "3851fcd1-cf98-4653-9c89-e003b7ec9400",
   "metadata": {},
   "source": [
    "## Exercise: Managing Customer Orders Optimized\n",
    "\n",
    "In the last lab, you were starting an online store that sells various products. To ensure smooth operations, you developed a program that manages customer orders and inventory.\n",
    "\n",
    "You did so without using flow control. Let's go a step further and improve this code.\n",
    "\n",
    "Follow the steps below to complete the exercise:\n",
    "\n",
    "1. Look at your code from the lab data structures, and improve repeated code with loops.\n",
    "\n",
    "2. Instead of asking the user to input the name of three products that a customer wants to order, do the following:\n",
    "    \n",
    "    a. Prompt the user to enter the name of a product that a customer wants to order.\n",
    "    \n",
    "    b. Add the product name to the \"customer_orders\" set.\n",
    "    \n",
    "    c. Ask the user if they want to add another product (yes/no).\n",
    "    \n",
    "    d. Continue the loop until the user does not want to add another product.\n",
    "\n",
    "3. Instead of updating the inventory by subtracting 1 from the quantity of each product, only do it for  the products that were ordered (those in \"customer_orders\")."
   ]
  },
  {
   "cell_type": "code",
   "execution_count": 1,
   "id": "1c7ef86e-591d-455a-9cc1-0dd33ccf465b",
   "metadata": {},
   "outputs": [
    {
     "name": "stdin",
     "output_type": "stream",
     "text": [
      "Enter the quantity of each t-shirt  5\n"
     ]
    },
    {
     "name": "stdout",
     "output_type": "stream",
     "text": [
      "5\n"
     ]
    },
    {
     "name": "stdin",
     "output_type": "stream",
     "text": [
      "Enter the quantity of each mug  8\n"
     ]
    },
    {
     "name": "stdout",
     "output_type": "stream",
     "text": [
      "8\n"
     ]
    },
    {
     "name": "stdin",
     "output_type": "stream",
     "text": [
      "Enter the quantity of each hat  9\n"
     ]
    },
    {
     "name": "stdout",
     "output_type": "stream",
     "text": [
      "9\n"
     ]
    },
    {
     "name": "stdin",
     "output_type": "stream",
     "text": [
      "Enter the quantity of each book  7\n"
     ]
    },
    {
     "name": "stdout",
     "output_type": "stream",
     "text": [
      "7\n"
     ]
    },
    {
     "name": "stdin",
     "output_type": "stream",
     "text": [
      "Enter the quantity of each keychain  4\n"
     ]
    },
    {
     "name": "stdout",
     "output_type": "stream",
     "text": [
      "4\n"
     ]
    }
   ],
   "source": [
    "products_list = [\"t-shirt\", \"mug\", \"hat\", \"book\", \"keychain\"]\n",
    "inventory = {}\n",
    "\n",
    "for products in products_list:\n",
    "    inventory[products] = int(input(f\"Enter the quantity of each {products} \"))\n",
    "    print(inventory[products] )"
   ]
  },
  {
   "cell_type": "code",
   "execution_count": 3,
   "id": "313d21ff-78a5-4ffd-8748-72eea0e2c83d",
   "metadata": {},
   "outputs": [
    {
     "data": {
      "text/plain": [
       "{'t-shirt': 5, 'mug': 8, 'hat': 9, 'book': 7, 'keychain': 4}"
      ]
     },
     "execution_count": 3,
     "metadata": {},
     "output_type": "execute_result"
    }
   ],
   "source": [
    "inventory"
   ]
  },
  {
   "cell_type": "code",
   "execution_count": 5,
   "id": "4fd6ae5d-2046-4f93-bd15-7cd330f01dde",
   "metadata": {},
   "outputs": [
    {
     "name": "stdin",
     "output_type": "stream",
     "text": [
      "Enter the quantity of each t-shirt  5\n",
      "Enter the quantity of each mug  3\n",
      "Enter the quantity of each hat  1\n",
      "Enter the quantity of each book  5\n",
      "Enter the quantity of each keychain  6\n"
     ]
    }
   ],
   "source": [
    "for products in products_list:\n",
    "    inventory[products] = int(input(f\"Enter the quantity of each {products} \"))\n",
    "    #inventory[products] = int(input(\"Enter the quantity of each\", products ))\n"
   ]
  },
  {
   "cell_type": "code",
   "execution_count": 7,
   "id": "aa9861a5-0d22-4130-aa58-47a15f987895",
   "metadata": {},
   "outputs": [
    {
     "name": "stdin",
     "output_type": "stream",
     "text": [
      "enter the of the product:  t-shirt\n",
      "do you want to add anthor product? (yes/no) no\n"
     ]
    }
   ],
   "source": [
    "customer_orders = set()\n",
    "answer = \"yes\"\n",
    "\n",
    "while answer == \"yes\":\n",
    "    users_input = input(\"enter the of the product: \")\n",
    "    customer_orders.add(users_input) \n",
    "    answer = input(\"do you want to add anthor product? (yes/no)\")\n"
   ]
  },
  {
   "cell_type": "code",
   "execution_count": 9,
   "id": "790fbdcb-16f7-48ed-84c2-ff7f2ae907e8",
   "metadata": {},
   "outputs": [
    {
     "data": {
      "text/plain": [
       "{'t-shirt'}"
      ]
     },
     "execution_count": 9,
     "metadata": {},
     "output_type": "execute_result"
    }
   ],
   "source": [
    "customer_orders\n"
   ]
  },
  {
   "cell_type": "code",
   "execution_count": 11,
   "id": "62a5e3ca-685b-4220-9198-bd5f8bb15134",
   "metadata": {},
   "outputs": [
    {
     "name": "stdout",
     "output_type": "stream",
     "text": [
      "{'t-shirt': 4, 'mug': 3, 'hat': 1, 'book': 5, 'keychain': 6}\n"
     ]
    }
   ],
   "source": [
    "for item in inventory:\n",
    "    if item in customer_orders:\n",
    "        inventory[item] -= 1\n",
    "print(inventory)\n"
   ]
  },
  {
   "cell_type": "code",
   "execution_count": null,
   "id": "09de7e52-f044-408d-b379-e94d661a2c4d",
   "metadata": {},
   "outputs": [],
   "source": []
  }
 ],
 "metadata": {
  "kernelspec": {
   "display_name": "Python [conda env:base] *",
   "language": "python",
   "name": "conda-base-py"
  },
  "language_info": {
   "codemirror_mode": {
    "name": "ipython",
    "version": 3
   },
   "file_extension": ".py",
   "mimetype": "text/x-python",
   "name": "python",
   "nbconvert_exporter": "python",
   "pygments_lexer": "ipython3",
   "version": "3.12.7"
  }
 },
 "nbformat": 4,
 "nbformat_minor": 5
}
